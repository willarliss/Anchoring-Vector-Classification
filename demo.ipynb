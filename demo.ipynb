{
 "cells": [
  {
   "cell_type": "code",
   "execution_count": null,
   "id": "a83bcd2c",
   "metadata": {},
   "outputs": [],
   "source": [
    "import numpy as np\n",
    "import matplotlib.pyplot as plt\n",
    "from sklearn.datasets import make_classification, make_circles\n",
    "\n",
    "from avm.model import AnchoringVectorClassifier"
   ]
  },
  {
   "cell_type": "code",
   "execution_count": null,
   "id": "29467921",
   "metadata": {},
   "outputs": [],
   "source": [
    "X_train, y_train = make_classification(\n",
    "    n_samples=1000, \n",
    "    n_features=10, \n",
    "    n_informative=10, \n",
    "    n_redundant=0,\n",
    "    n_classes=2, \n",
    "    n_clusters_per_class=1,\n",
    ")"
   ]
  },
  {
   "cell_type": "code",
   "execution_count": null,
   "id": "04f25dc6",
   "metadata": {},
   "outputs": [],
   "source": [
    "a0 = np.random.randn(45) + 10\n",
    "a1 = np.random.randn(45) + 10\n",
    "b0 = np.random.randn(45) - 10\n",
    "b1 = np.random.randn(45) - 10\n",
    "X_train = np.vstack([np.c_[a0,a1], np.c_[b0,b1]])\n",
    "y_train = np.zeros(90)\n",
    "y_train[:45] = 0\n",
    "y_train[45:] = 1"
   ]
  },
  {
   "cell_type": "code",
   "execution_count": null,
   "id": "42139c50",
   "metadata": {},
   "outputs": [],
   "source": [
    "X_train, y_train = make_circles(\n",
    "    n_samples=100,\n",
    "    noise=0.01, \n",
    "    random_state=0,\n",
    ")"
   ]
  },
  {
   "cell_type": "code",
   "execution_count": null,
   "id": "66ad97ae",
   "metadata": {},
   "outputs": [],
   "source": [
    "plt.plot(X_train[y_train==0,0], X_train[y_train==0,1], 'b.')\n",
    "plt.plot(X_train[y_train==1,0], X_train[y_train==1,1], 'r.')\n",
    "plt.show()"
   ]
  },
  {
   "cell_type": "code",
   "execution_count": null,
   "id": "fd7c3e26",
   "metadata": {},
   "outputs": [],
   "source": [
    "#avc = AnchoringVectorClassifier(tol=0.0001, max_iter=10)\n",
    "avc = AnchoringVectorClassifier(\n",
    "    random_state=42, \n",
    "    kernel='poly',\n",
    "    metric='l2',\n",
    "    solver='gradient-desc',\n",
    ")"
   ]
  },
  {
   "cell_type": "code",
   "execution_count": null,
   "id": "6f19c252",
   "metadata": {
    "scrolled": true
   },
   "outputs": [],
   "source": [
    "avc.fit(X_train, y_train)"
   ]
  },
  {
   "cell_type": "code",
   "execution_count": null,
   "id": "5fde3737",
   "metadata": {},
   "outputs": [],
   "source": [
    "y_train_pred = avc.predict(X_train)"
   ]
  },
  {
   "cell_type": "code",
   "execution_count": null,
   "id": "1a250890",
   "metadata": {},
   "outputs": [],
   "source": [
    "np.mean(y_train==y_train_pred)"
   ]
  },
  {
   "cell_type": "code",
   "execution_count": null,
   "id": "c94b01d6",
   "metadata": {},
   "outputs": [],
   "source": [
    "avc.predict_proba(X_train);"
   ]
  },
  {
   "cell_type": "code",
   "execution_count": null,
   "id": "8238ad2b",
   "metadata": {},
   "outputs": [],
   "source": [
    "plt.plot(X_train[y_train==0,0], X_train[y_train==0,1], 'b.')\n",
    "plt.plot(*avc.anchor_[0][:2], 'b*', markersize=10)\n",
    "plt.plot(X_train[y_train==1,0], X_train[y_train==1,1], 'r.')\n",
    "plt.plot(*avc.anchor_[1][:2], 'r*', markersize=10)\n",
    "plt.show()"
   ]
  },
  {
   "cell_type": "markdown",
   "id": "284bfc10",
   "metadata": {},
   "source": [
    "---"
   ]
  },
  {
   "cell_type": "code",
   "execution_count": null,
   "id": "06e30fb8",
   "metadata": {},
   "outputs": [],
   "source": [
    "a0 = np.random.randn(30) + 5\n",
    "a1 = np.random.randn(30) + 5\n",
    "b0 = np.random.randn(30) - 5\n",
    "b1 = np.random.randn(30) + 10\n",
    "c0 = np.random.randn(30) - 10\n",
    "c1 = np.random.randn(30) - 10\n",
    "X_train = np.vstack([np.c_[a0,a1], np.c_[b0,b1], np.c_[c0,c1]])\n",
    "y_train = np.zeros(90)\n",
    "y_train[:30] = 1\n",
    "y_train[-30:] = 2"
   ]
  },
  {
   "cell_type": "code",
   "execution_count": null,
   "id": "73ae4382",
   "metadata": {},
   "outputs": [],
   "source": [
    "plt.plot(X_train[y_train==0,0], X_train[y_train==0,1], 'b.')\n",
    "plt.plot(X_train[y_train==1,0], X_train[y_train==1,1], 'r.')\n",
    "plt.plot(X_train[y_train==2,0], X_train[y_train==2,1], 'g.')\n",
    "plt.show()"
   ]
  },
  {
   "cell_type": "code",
   "execution_count": null,
   "id": "83148c5a",
   "metadata": {},
   "outputs": [],
   "source": [
    "avc = AnchoringVectorClassifier(tol=0.01, max_iter=10)"
   ]
  },
  {
   "cell_type": "code",
   "execution_count": null,
   "id": "5b26565a",
   "metadata": {},
   "outputs": [],
   "source": [
    "avc.fit(X_train, y_train)"
   ]
  },
  {
   "cell_type": "code",
   "execution_count": null,
   "id": "245a800c",
   "metadata": {},
   "outputs": [],
   "source": [
    "y_train_pred = avc.predict(X_train)"
   ]
  },
  {
   "cell_type": "code",
   "execution_count": null,
   "id": "cba35e90",
   "metadata": {},
   "outputs": [],
   "source": [
    "np.mean(y_train==y_train_pred)"
   ]
  },
  {
   "cell_type": "code",
   "execution_count": null,
   "id": "c08e089e",
   "metadata": {},
   "outputs": [],
   "source": [
    "avc.predict_proba(X_train);"
   ]
  },
  {
   "cell_type": "code",
   "execution_count": null,
   "id": "46c66ea9",
   "metadata": {},
   "outputs": [],
   "source": [
    "plt.plot(X_train[y_train==0,0], X_train[y_train==0,1], 'b.')\n",
    "plt.plot(*avc.anchor_[0][:2], 'b*', markersize=10)\n",
    "plt.plot(X_train[y_train==1,0], X_train[y_train==1,1], 'r.')\n",
    "plt.plot(*avc.anchor_[1][:2], 'r*', markersize=10)\n",
    "plt.plot(X_train[y_train==2,0], X_train[y_train==2,1], 'g.')\n",
    "plt.plot(*avc.anchor_[2][:2], 'g*', markersize=10)\n",
    "plt.show()"
   ]
  },
  {
   "cell_type": "code",
   "execution_count": null,
   "id": "55e62564",
   "metadata": {},
   "outputs": [],
   "source": []
  },
  {
   "cell_type": "code",
   "execution_count": null,
   "id": "f58aac4e",
   "metadata": {},
   "outputs": [],
   "source": []
  },
  {
   "cell_type": "code",
   "execution_count": null,
   "id": "3be3d502",
   "metadata": {},
   "outputs": [],
   "source": []
  }
 ],
 "metadata": {
  "kernelspec": {
   "display_name": "Python 3 (ipykernel)",
   "language": "python",
   "name": "python3"
  },
  "language_info": {
   "codemirror_mode": {
    "name": "ipython",
    "version": 3
   },
   "file_extension": ".py",
   "mimetype": "text/x-python",
   "name": "python",
   "nbconvert_exporter": "python",
   "pygments_lexer": "ipython3",
   "version": "3.8.7"
  }
 },
 "nbformat": 4,
 "nbformat_minor": 5
}
